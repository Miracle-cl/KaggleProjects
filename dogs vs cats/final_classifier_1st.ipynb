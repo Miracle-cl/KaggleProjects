{
 "cells": [
  {
   "cell_type": "code",
   "execution_count": 8,
   "metadata": {},
   "outputs": [],
   "source": [
    "import os\n",
    "import shutil\n",
    "import h5py\n",
    "import pandas as pd\n",
    "import numpy as np\n",
    "from sklearn.utils import shuffle\n",
    "from keras.models import Model\n",
    "from keras.layers import Input, Dropout, Dense, Lambda\n",
    "from keras.callbacks import ModelCheckpoint\n",
    "from keras.preprocessing.image import ImageDataGenerator\n",
    "from keras.applications import vgg16, resnet50, inception_v3, xception, inception_resnet_v2\n",
    "from time import time\n",
    "\n",
    "import pydot\n",
    "import matplotlib.pyplot as plt\n",
    "from matplotlib.pyplot import imshow\n",
    "from IPython.display import SVG\n",
    "from keras.utils.vis_utils import model_to_dot\n",
    "from keras.utils import plot_model\n",
    "\n",
    "import keras.backend as K\n",
    "K.set_image_data_format('channels_last')\n",
    "\n",
    "\n",
    "%matplotlib inline"
   ]
  },
  {
   "cell_type": "code",
   "execution_count": null,
   "metadata": {
    "collapsed": true
   },
   "outputs": [],
   "source": [
    "# 创建文件目录\n",
    "os.mkdir('dataset/train_diff')\n",
    "os.mkdir('dataset/train_diff/cat')\n",
    "os.mkdir('dataset/train_diff/dog')\n",
    "\n",
    "os.mkdir('dataset/test2')\n",
    "os.mkdir('dataset/test2/test')"
   ]
  },
  {
   "cell_type": "code",
   "execution_count": null,
   "metadata": {
    "collapsed": true
   },
   "outputs": [],
   "source": [
    "# train中的文件\n",
    "image_names_train = os.listdir('dataset/train')\n",
    "print(image_names_train[:5])\n",
    "print(len(image_names_train))"
   ]
  },
  {
   "cell_type": "code",
   "execution_count": null,
   "metadata": {
    "collapsed": true
   },
   "outputs": [],
   "source": [
    "# 将train中的图像文件移动到train_diff下对应的目录中\n",
    "for image_name in image_names_train:\n",
    "    src = 'dataset/train/' + image_name\n",
    "    if image_name[:3] == 'cat':\n",
    "        dst_cat = 'dataset/train_diff/cat/' + image_name\n",
    "        shutil.move(src, dst_cat)\n",
    "    else:\n",
    "        dst_dog = 'dataset/train_diff/dog/' + image_name\n",
    "        shutil.move(src, dst_dog)"
   ]
  },
  {
   "cell_type": "code",
   "execution_count": null,
   "metadata": {
    "collapsed": true
   },
   "outputs": [],
   "source": [
    "# 将test中的图像文件移动到test2/test中\n",
    "image_names_test = os.listdir('dataset/test')\n",
    "\n",
    "for image_name in image_names_test:\n",
    "    src = 'dataset/test/' + image_name\n",
    "    dst = 'dataset/test2/test/' + image_name\n",
    "    shutil.move(src, dst)"
   ]
  },
  {
   "cell_type": "code",
   "execution_count": 3,
   "metadata": {},
   "outputs": [],
   "source": [
    "# 验证一下结果\n",
    "# assert len(os.listdir('dataset/train')) == 0\n",
    "assert len(os.listdir('dataset/train_diff/cat')) == 12500\n",
    "assert len(os.listdir('dataset/train_diff/dog')) == 12500\n",
    "# assert len(os.listdir('dataset/test')) == 0\n",
    "assert len(os.listdir('dataset/test2/test')) == 12500"
   ]
  },
  {
   "cell_type": "code",
   "execution_count": 4,
   "metadata": {},
   "outputs": [
    {
     "name": "stdout",
     "output_type": "stream",
     "text": [
      "45\n",
      "['cat.9983.jpg', 'cat.10365.jpg', 'cat.12476.jpg', 'cat.5418.jpg', 'cat.4688.jpg', 'cat.7564.jpg', 'cat.12272.jpg', 'cat.2939.jpg', 'cat.6348.jpg', 'cat.7377.jpg', 'cat.8921.jpg', 'cat.4308.jpg', 'cat.8470.jpg', 'cat.11184.jpg', 'cat.10029.jpg', 'cat.8456.jpg', 'cat.5974.jpg', 'cat.10712.jpg', 'cat.11039.jpg', 'cat.10536.jpg', 'cat.1139.jpg', 'cat.2520.jpg', 'cat.3672.jpg', 'dog.1194.jpg', 'dog.6725.jpg', 'dog.2339.jpg', 'dog.9517.jpg', 'dog.10237.jpg', 'dog.6475.jpg', 'dog.5604.jpg', 'dog.10161.jpg', 'dog.10801.jpg', 'dog.1773.jpg', 'dog.11299.jpg', 'dog.2614.jpg', 'dog.7706.jpg', 'dog.4507.jpg', 'dog.11437.jpg', 'dog.2422.jpg', 'dog.1625.jpg', 'dog.7076.jpg', 'dog.4367.jpg', 'dog.4218.jpg', 'dog.12376.jpg', 'dog.8736.jpg']\n"
     ]
    }
   ],
   "source": [
    "# 读取异常值\n",
    "with open('outliers.txt', 'r') as txtf:\n",
    "    lines = txtf.read()\n",
    "    \n",
    "outlier_images = lines.split(',')\n",
    "print(len(outlier_images))\n",
    "print(outlier_images)"
   ]
  },
  {
   "cell_type": "code",
   "execution_count": 5,
   "metadata": {},
   "outputs": [
    {
     "data": {
      "text/plain": [
       "45"
      ]
     },
     "execution_count": 5,
     "metadata": {},
     "output_type": "execute_result"
    }
   ],
   "source": [
    "# 删除异常值\n",
    "count = 0\n",
    "for img_name in outlier_images:\n",
    "    if img_name:\n",
    "        img_path = 'dataset/train_diff/' + img_name[:3] + '/' + img_name\n",
    "        os.remove(img_path)\n",
    "        count += 1\n",
    "count"
   ]
  },
  {
   "cell_type": "code",
   "execution_count": 6,
   "metadata": {},
   "outputs": [
    {
     "data": {
      "text/plain": [
       "12477"
      ]
     },
     "execution_count": 6,
     "metadata": {},
     "output_type": "execute_result"
    }
   ],
   "source": [
    "len(os.listdir('dataset/train_diff/cat'))"
   ]
  },
  {
   "cell_type": "code",
   "execution_count": 7,
   "metadata": {},
   "outputs": [
    {
     "data": {
      "text/plain": [
       "12478"
      ]
     },
     "execution_count": 7,
     "metadata": {},
     "output_type": "execute_result"
    }
   ],
   "source": [
    "len(os.listdir('dataset/train_diff/dog'))"
   ]
  },
  {
   "cell_type": "code",
   "execution_count": null,
   "metadata": {
    "collapsed": true
   },
   "outputs": [],
   "source": [
    "# 删除异常值\n",
    "# count = 0\n",
    "# for img_name in outlier_images:\n",
    "#     try:\n",
    "#         img_path = 'dataset/train_diff/' + img_name[:3] + '/' + img_name\n",
    "#         os.remove(img_path)\n",
    "#         count += 1\n",
    "#     except:\n",
    "#         pass\n",
    "# count"
   ]
  },
  {
   "cell_type": "code",
   "execution_count": 8,
   "metadata": {},
   "outputs": [],
   "source": [
    "assert len(os.listdir('dataset/train_diff/cat')) + len(os.listdir('dataset/train_diff/dog')) == 25000 - count"
   ]
  },
  {
   "cell_type": "markdown",
   "metadata": {},
   "source": [
    "## Extract Model features without data augmentation"
   ]
  },
  {
   "cell_type": "code",
   "execution_count": null,
   "metadata": {
    "collapsed": true
   },
   "outputs": [],
   "source": [
    "# 导出模型的特征向量，注意文件的层级结构\n",
    "def get_model(model, image_size, preprocess_func, model_name):\n",
    "    # model like vgg16.VGG16\n",
    "    # image_size: a tuple with image height and width\n",
    "    # preprocess_func like vgg16.preprocess_input\n",
    "    # model_name: string of model name\n",
    "    x = Input(shape=(image_size[0], image_size[1], 3))\n",
    "    x = Lambda(preprocess_func)(x)\n",
    "    base_model = model(include_top=False, input_tensor=x, weights='imagenet', pooling='avg')\n",
    "\n",
    "    image_generator = ImageDataGenerator()\n",
    "    train_generator = image_generator.flow_from_directory('dataset/train_diff', target_size=image_size, \n",
    "                                                          class_mode='binary', shuffle=False, batch_size=16)\n",
    "    test_generator = image_generator.flow_from_directory('dataset/test2', target_size=image_size, \n",
    "                                                         class_mode=None, shuffle=False, batch_size=16)\n",
    "\n",
    "    train = base_model.predict_generator(train_generator)\n",
    "    test = base_model.predict_generator(test_generator)\n",
    "\n",
    "    with h5py.File('%s_gap.h5' % model_name) as h:\n",
    "        h.create_dataset('train', data=train)\n",
    "        h.create_dataset('test', data=test)\n",
    "        h.create_dataset('labels', data=train_generator.classes)"
   ]
  },
  {
   "cell_type": "code",
   "execution_count": null,
   "metadata": {
    "collapsed": true
   },
   "outputs": [],
   "source": [
    "# 导出VGG16的model\n",
    "start_time = time()\n",
    "get_model(vgg16.VGG16, (224,224), vgg16.preprocess_input, 'VGG16')\n",
    "print('VGG16 Time: {}s'.format(round(time() - start_time, 1)))"
   ]
  },
  {
   "cell_type": "code",
   "execution_count": null,
   "metadata": {
    "collapsed": true
   },
   "outputs": [],
   "source": [
    "# 导出ResNet50的model\n",
    "start_time = time()\n",
    "get_model(resnet50.ResNet50, (224,224), resnet50.preprocess_input, 'ResNet50')\n",
    "print('ResNet50 Time: {}s'.format(round(time() - start_time, 1)))"
   ]
  },
  {
   "cell_type": "code",
   "execution_count": null,
   "metadata": {
    "collapsed": true
   },
   "outputs": [],
   "source": [
    "# 导出InceptionV3的model\n",
    "start_time = time()\n",
    "get_model(inception_v3.InceptionV3, (299,299), inception_v3.preprocess_input, 'InceptionV3')\n",
    "print('InceptionV3 Time: {}s'.format(round(time() - start_time, 1)))"
   ]
  },
  {
   "cell_type": "code",
   "execution_count": null,
   "metadata": {
    "collapsed": true
   },
   "outputs": [],
   "source": [
    "# 导出Xception的model\n",
    "start_time = time()\n",
    "get_model(xception.Xception, (299,299), xception.preprocess_input, 'Xception')\n",
    "print('Xception Time: {}s'.format(round(time() - start_time, 1)))"
   ]
  },
  {
   "cell_type": "code",
   "execution_count": null,
   "metadata": {
    "collapsed": true
   },
   "outputs": [],
   "source": [
    "# 导出InceptionResNetV2的model\n",
    "start_time = time()\n",
    "get_model(inception_resnet_v2.InceptionResNetV2, (299,299), inception_resnet_v2.preprocess_input, 'InceptionResNetV2')\n",
    "print('InceptionResNetV2 Time: {}s'.format(round(time() - start_time, 1)))"
   ]
  },
  {
   "cell_type": "code",
   "execution_count": null,
   "metadata": {},
   "outputs": [],
   "source": []
  },
  {
   "cell_type": "code",
   "execution_count": 4,
   "metadata": {},
   "outputs": [
    {
     "name": "stdout",
     "output_type": "stream",
     "text": [
      "(25000, 512) (25000,)\n",
      "_________________________________________________________________\n",
      "Layer (type)                 Output Shape              Param #   \n",
      "=================================================================\n",
      "input_2 (InputLayer)         (None, 512)               0         \n",
      "_________________________________________________________________\n",
      "dropout_2 (Dropout)          (None, 512)               0         \n",
      "_________________________________________________________________\n",
      "dense_2 (Dense)              (None, 1)                 513       \n",
      "=================================================================\n",
      "Total params: 513\n",
      "Trainable params: 513\n",
      "Non-trainable params: 0\n",
      "_________________________________________________________________\n",
      "None\n",
      "Train on 20000 samples, validate on 5000 samples\n",
      "Epoch 1/10\n",
      "20000/20000 [==============================] - 1s 66us/step - loss: 0.2906 - acc: 0.9289 - val_loss: 0.0844 - val_acc: 0.9760\n",
      "Epoch 2/10\n",
      "20000/20000 [==============================] - 1s 56us/step - loss: 0.0958 - acc: 0.9715 - val_loss: 0.0646 - val_acc: 0.9794\n",
      "Epoch 3/10\n",
      "20000/20000 [==============================] - 1s 46us/step - loss: 0.0734 - acc: 0.9768 - val_loss: 0.0587 - val_acc: 0.9812\n",
      "Epoch 4/10\n",
      "20000/20000 [==============================] - 1s 46us/step - loss: 0.0652 - acc: 0.9781 - val_loss: 0.0564 - val_acc: 0.9830\n",
      "Epoch 5/10\n",
      "20000/20000 [==============================] - 1s 57us/step - loss: 0.0605 - acc: 0.9797 - val_loss: 0.0659 - val_acc: 0.9806\n",
      "Epoch 6/10\n",
      "20000/20000 [==============================] - 1s 51us/step - loss: 0.0610 - acc: 0.9800 - val_loss: 0.0677 - val_acc: 0.9796\n",
      "Epoch 7/10\n",
      "20000/20000 [==============================] - 1s 46us/step - loss: 0.0599 - acc: 0.9797 - val_loss: 0.0558 - val_acc: 0.9840\n",
      "Epoch 8/10\n",
      "20000/20000 [==============================] - 1s 53us/step - loss: 0.0566 - acc: 0.9809 - val_loss: 0.0522 - val_acc: 0.9842\n",
      "Epoch 9/10\n",
      "20000/20000 [==============================] - 1s 52us/step - loss: 0.0616 - acc: 0.9789 - val_loss: 0.0616 - val_acc: 0.9796\n",
      "Epoch 10/10\n",
      "20000/20000 [==============================] - 1s 52us/step - loss: 0.0595 - acc: 0.9803 - val_loss: 0.0797 - val_acc: 0.9756\n"
     ]
    }
   ],
   "source": [
    "# 单模型  VGG16\n",
    "with h5py.File('extract_features/VGG16_gap.h5', 'r') as h:\n",
    "    x_train = np.array(h['train'])\n",
    "    x_test = np.array(h['test'])\n",
    "    y_train = np.array(h['labels'])\n",
    "    \n",
    "x_train, y_train = shuffle(x_train, y_train)\n",
    "print(x_train.shape, y_train.shape)\n",
    "    \n",
    "# 创建模型\n",
    "input_tensor = Input(x_train.shape[1:])\n",
    "x = Dropout(0.2)(input_tensor)\n",
    "x = Dense(1, activation='sigmoid')(x)\n",
    "\n",
    "model = Model(input_tensor, x)\n",
    "\n",
    "model.compile(optimizer='adam', loss='binary_crossentropy', metrics=['accuracy'])\n",
    "print(model.summary())\n",
    "\n",
    "history_vgg = model.fit(x_train, y_train, epochs=10, batch_size=32, validation_split=0.2, verbose=1)"
   ]
  },
  {
   "cell_type": "code",
   "execution_count": 6,
   "metadata": {},
   "outputs": [
    {
     "data": {
      "image/png": "[encoded data removed]",
      "text/plain": [
       "<matplotlib.figure.Figure at 0x12c777f60>"
      ]
     },
     "metadata": {},
     "output_type": "display_data"
    }
   ],
   "source": [
    "# 绘制训练和验证的损失曲线\n",
    "plt.plot(history_vgg.history['loss'])\n",
    "plt.plot(history_vgg.history['val_loss'])\n",
    "\n",
    "plt.legend(['training', 'validation'], loc='upper right', fontsize=16)\n",
    "\n",
    "plt.title('loss of VGG16', fontsize=20)\n",
    "plt.xlabel('epochs', fontsize=18)\n",
    "plt.ylabel('loss', fontsize=18)\n",
    "\n",
    "plt.xticks(range(0, 11, 2), fontsize=16)\n",
    "plt.yticks(fontsize=16)\n",
    "\n",
    "plt.show()"
   ]
  },
  {
   "cell_type": "code",
   "execution_count": 7,
   "metadata": {},
   "outputs": [
    {
     "name": "stdout",
     "output_type": "stream",
     "text": [
      "12500/12500 [==============================] - 0s 18us/step\n",
      "Found 12500 images belonging to 1 classes.\n"
     ]
    }
   ],
   "source": [
    "# VGG16\n",
    "y_pred = model.predict(x_test, verbose=1)\n",
    "y_pred = y_pred.clip(min=0.005, max=0.995)\n",
    "\n",
    "df = pd.read_csv('result_csv/sample_submission.csv')\n",
    "\n",
    "image_generator = ImageDataGenerator()\n",
    "\n",
    "test_generator = image_generator.flow_from_directory('dataset/test2', target_size=(224, 224), \n",
    "                                                     class_mode=None, shuffle=False, batch_size=16)\n",
    "\n",
    "for i, filename in enumerate(test_generator.filenames):\n",
    "    idx = filename[filename.find('/')+1 : filename.find('.')]\n",
    "    df.set_value(int(idx)-1, 'label', y_pred[i])\n",
    "\n",
    "df.to_csv('result_csv/pred_vgg16.csv', index=False)\n",
    "# score 0.08553"
   ]
  },
  {
   "cell_type": "code",
   "execution_count": null,
   "metadata": {},
   "outputs": [],
   "source": []
  },
  {
   "cell_type": "code",
   "execution_count": 10,
   "metadata": {},
   "outputs": [
    {
     "name": "stdout",
     "output_type": "stream",
     "text": [
      "(25000, 2048) (25000,)\n",
      "_________________________________________________________________\n",
      "Layer (type)                 Output Shape              Param #   \n",
      "=================================================================\n",
      "input_1 (InputLayer)         (None, 2048)              0         \n",
      "_________________________________________________________________\n",
      "dropout_1 (Dropout)          (None, 2048)              0         \n",
      "_________________________________________________________________\n",
      "dense_1 (Dense)              (None, 1)                 2049      \n",
      "=================================================================\n",
      "Total params: 2,049\n",
      "Trainable params: 2,049\n",
      "Non-trainable params: 0\n",
      "_________________________________________________________________\n",
      "None\n"
     ]
    }
   ],
   "source": [
    "# 单模型  Xception\n",
    "with h5py.File('extract_features/Xception_gap.h5', 'r') as h:\n",
    "    x_train = np.array(h['train'])\n",
    "    x_test = np.array(h['test'])\n",
    "    y_train = np.array(h['labels'])\n",
    "    \n",
    "x_train, y_train = shuffle(x_train, y_train)\n",
    "print(x_train.shape, y_train.shape)\n",
    "    \n",
    "# 创建模型\n",
    "input_tensor = Input(x_train.shape[1:])\n",
    "x = Dropout(0.2)(input_tensor)\n",
    "x = Dense(1, activation='sigmoid')(x)\n",
    "\n",
    "model = Model(input_tensor, x)\n",
    "\n",
    "model.compile(optimizer='adam', loss='binary_crossentropy', metrics=['accuracy'])\n",
    "print(model.summary())"
   ]
  },
  {
   "cell_type": "code",
   "execution_count": 11,
   "metadata": {},
   "outputs": [
    {
     "name": "stdout",
     "output_type": "stream",
     "text": [
      "Train on 20000 samples, validate on 5000 samples\n",
      "Epoch 1/20\n",
      "20000/20000 [==============================] - 1s 75us/step - loss: 0.0643 - acc: 0.9878 - val_loss: 0.0269 - val_acc: 0.9946\n",
      "Epoch 2/20\n",
      "20000/20000 [==============================] - 1s 55us/step - loss: 0.0214 - acc: 0.9934 - val_loss: 0.0220 - val_acc: 0.9938\n",
      "Epoch 3/20\n",
      "20000/20000 [==============================] - 1s 54us/step - loss: 0.0183 - acc: 0.9941 - val_loss: 0.0223 - val_acc: 0.9938\n",
      "Epoch 4/20\n",
      "20000/20000 [==============================] - 1s 54us/step - loss: 0.0158 - acc: 0.9946 - val_loss: 0.0217 - val_acc: 0.9938\n",
      "Epoch 5/20\n",
      "20000/20000 [==============================] - 1s 55us/step - loss: 0.0141 - acc: 0.9954 - val_loss: 0.0214 - val_acc: 0.9946\n",
      "Epoch 6/20\n",
      "20000/20000 [==============================] - 1s 61us/step - loss: 0.0133 - acc: 0.9960 - val_loss: 0.0217 - val_acc: 0.9938\n",
      "Epoch 7/20\n",
      "20000/20000 [==============================] - 1s 54us/step - loss: 0.0127 - acc: 0.9960 - val_loss: 0.0222 - val_acc: 0.9934\n",
      "Epoch 8/20\n",
      "20000/20000 [==============================] - 1s 62us/step - loss: 0.0114 - acc: 0.9963 - val_loss: 0.0223 - val_acc: 0.9936\n",
      "Epoch 9/20\n",
      "20000/20000 [==============================] - 1s 58us/step - loss: 0.0105 - acc: 0.9967 - val_loss: 0.0242 - val_acc: 0.9934\n",
      "Epoch 10/20\n",
      "20000/20000 [==============================] - 1s 67us/step - loss: 0.0106 - acc: 0.9964 - val_loss: 0.0224 - val_acc: 0.9938\n",
      "Epoch 11/20\n",
      "20000/20000 [==============================] - 1s 58us/step - loss: 0.0098 - acc: 0.9970 - val_loss: 0.0225 - val_acc: 0.9938\n",
      "Epoch 12/20\n",
      "20000/20000 [==============================] - 1s 56us/step - loss: 0.0092 - acc: 0.9970 - val_loss: 0.0224 - val_acc: 0.9940\n",
      "Epoch 13/20\n",
      "20000/20000 [==============================] - 1s 63us/step - loss: 0.0088 - acc: 0.9971 - val_loss: 0.0231 - val_acc: 0.9934\n",
      "Epoch 14/20\n",
      "20000/20000 [==============================] - 1s 71us/step - loss: 0.0087 - acc: 0.9969 - val_loss: 0.0227 - val_acc: 0.9936\n",
      "Epoch 15/20\n",
      "20000/20000 [==============================] - 1s 57us/step - loss: 0.0084 - acc: 0.9969 - val_loss: 0.0226 - val_acc: 0.9934\n",
      "Epoch 16/20\n",
      "20000/20000 [==============================] - 1s 56us/step - loss: 0.0076 - acc: 0.9977 - val_loss: 0.0229 - val_acc: 0.9942\n",
      "Epoch 17/20\n",
      "20000/20000 [==============================] - 1s 56us/step - loss: 0.0079 - acc: 0.9975 - val_loss: 0.0229 - val_acc: 0.9938\n",
      "Epoch 18/20\n",
      "20000/20000 [==============================] - 1s 60us/step - loss: 0.0069 - acc: 0.9977 - val_loss: 0.0230 - val_acc: 0.9938\n",
      "Epoch 19/20\n",
      "20000/20000 [==============================] - 1s 57us/step - loss: 0.0072 - acc: 0.9979 - val_loss: 0.0230 - val_acc: 0.9942\n",
      "Epoch 20/20\n",
      "20000/20000 [==============================] - 1s 59us/step - loss: 0.0070 - acc: 0.9979 - val_loss: 0.0244 - val_acc: 0.9944\n"
     ]
    }
   ],
   "source": [
    "history_xception = model.fit(x_train, y_train, epochs=20, batch_size=32, validation_split=0.2, verbose=1)"
   ]
  },
  {
   "cell_type": "code",
   "execution_count": 12,
   "metadata": {},
   "outputs": [
    {
     "data": {
      "image/png": "[encoded data removed]",
      "text/plain": [
       "<matplotlib.figure.Figure at 0x128cc28d0>"
      ]
     },
     "metadata": {},
     "output_type": "display_data"
    }
   ],
   "source": [
    "# 绘制训练和验证的损失曲线\n",
    "plt.plot(history_xception.history['loss'])\n",
    "plt.plot(history_xception.history['val_loss'])\n",
    "\n",
    "plt.legend(['training', 'validation'], loc='upper right', fontsize=16)\n",
    "\n",
    "plt.title('loss of Xception', fontsize=20)\n",
    "plt.xlabel('epochs', fontsize=18)\n",
    "plt.ylabel('loss', fontsize=18)\n",
    "\n",
    "plt.xticks(range(0, 21, 4), fontsize=16)\n",
    "plt.yticks(fontsize=16)\n",
    "\n",
    "plt.show()"
   ]
  },
  {
   "cell_type": "code",
   "execution_count": 14,
   "metadata": {},
   "outputs": [
    {
     "name": "stdout",
     "output_type": "stream",
     "text": [
      "12500/12500 [==============================] - 0s 18us/step\n",
      "Found 12500 images belonging to 1 classes.\n"
     ]
    }
   ],
   "source": [
    "# Xception \n",
    "y_pred = model.predict(x_test, verbose=1)\n",
    "y_pred = y_pred.clip(min=0.005, max=0.995)\n",
    "\n",
    "df = pd.read_csv('result_csv/sample_submission.csv')\n",
    "\n",
    "image_generator = ImageDataGenerator()\n",
    "\n",
    "test_generator = image_generator.flow_from_directory('dataset/test2', target_size=(224, 224), \n",
    "                                                     class_mode=None, shuffle=False, batch_size=16)\n",
    "\n",
    "for i, filename in enumerate(test_generator.filenames):\n",
    "    idx = filename[filename.find('/')+1 : filename.find('.')]\n",
    "    df.set_value(int(idx)-1, 'label', y_pred[i])\n",
    "\n",
    "df.to_csv('result_csv/pred_xception_1.csv', index=False)\n",
    "# score 0.04448"
   ]
  },
  {
   "cell_type": "code",
   "execution_count": null,
   "metadata": {},
   "outputs": [],
   "source": []
  },
  {
   "cell_type": "code",
   "execution_count": 25,
   "metadata": {},
   "outputs": [
    {
     "name": "stdout",
     "output_type": "stream",
     "text": [
      "(25000, 1536) (12500, 1536) (25000,)\n",
      "_________________________________________________________________\n",
      "Layer (type)                 Output Shape              Param #   \n",
      "=================================================================\n",
      "input_6 (InputLayer)         (None, 1536)              0         \n",
      "_________________________________________________________________\n",
      "dropout_6 (Dropout)          (None, 1536)              0         \n",
      "_________________________________________________________________\n",
      "dense_6 (Dense)              (None, 1)                 1537      \n",
      "=================================================================\n",
      "Total params: 1,537\n",
      "Trainable params: 1,537\n",
      "Non-trainable params: 0\n",
      "_________________________________________________________________\n",
      "None\n",
      "Train on 20000 samples, validate on 5000 samples\n",
      "Epoch 1/10\n",
      "20000/20000 [==============================] - 1s 73us/step - loss: 0.0547 - acc: 0.9888 - val_loss: 0.0237 - val_acc: 0.9940\n",
      "Epoch 2/10\n",
      "20000/20000 [==============================] - 1s 59us/step - loss: 0.0227 - acc: 0.9942 - val_loss: 0.0195 - val_acc: 0.9948\n",
      "Epoch 3/10\n",
      "20000/20000 [==============================] - 1s 60us/step - loss: 0.0187 - acc: 0.9950 - val_loss: 0.0179 - val_acc: 0.9960\n",
      "Epoch 4/10\n",
      "20000/20000 [==============================] - 1s 68us/step - loss: 0.0176 - acc: 0.9953 - val_loss: 0.0164 - val_acc: 0.9958\n",
      "Epoch 5/10\n",
      "20000/20000 [==============================] - 1s 60us/step - loss: 0.0169 - acc: 0.9957 - val_loss: 0.0171 - val_acc: 0.9946\n",
      "Epoch 6/10\n",
      "20000/20000 [==============================] - 1s 52us/step - loss: 0.0163 - acc: 0.9955 - val_loss: 0.0154 - val_acc: 0.9958\n",
      "Epoch 7/10\n",
      "20000/20000 [==============================] - 1s 56us/step - loss: 0.0158 - acc: 0.9954 - val_loss: 0.0156 - val_acc: 0.9956\n",
      "Epoch 8/10\n",
      "20000/20000 [==============================] - 1s 60us/step - loss: 0.0144 - acc: 0.9961 - val_loss: 0.0157 - val_acc: 0.9954\n",
      "Epoch 9/10\n",
      "20000/20000 [==============================] - 1s 67us/step - loss: 0.0142 - acc: 0.9958 - val_loss: 0.0159 - val_acc: 0.9966\n",
      "Epoch 10/10\n",
      "20000/20000 [==============================] - 1s 53us/step - loss: 0.0133 - acc: 0.9963 - val_loss: 0.0161 - val_acc: 0.9944\n"
     ]
    }
   ],
   "source": [
    "with h5py.File('extract_features/InceptionResNetV2_gap.h5', 'r') as h:\n",
    "    x_train = np.array(h['train'])\n",
    "    x_test = np.array(h['test'])\n",
    "    y_train = np.array(h['labels'])\n",
    "\n",
    "x_train, y_train = shuffle(x_train, y_train)\n",
    "print(x_train.shape, x_test.shape, y_train.shape)\n",
    "\n",
    "input_tensor = Input(x_train.shape[1:])\n",
    "x = Dropout(0.2)(input_tensor)\n",
    "x = Dense(1, activation='sigmoid')(x)\n",
    "\n",
    "model = Model(input_tensor, x)\n",
    "model.compile(optimizer='adam', loss='binary_crossentropy', metrics=['accuracy'])\n",
    "\n",
    "print(model.summary())\n",
    "\n",
    "hsitory_IRv2 = model.fit(x_train, y_train, epochs=10, batch_size=32, validation_split=0.2, verbose=1)"
   ]
  },
  {
   "cell_type": "code",
   "execution_count": 27,
   "metadata": {},
   "outputs": [
    {
     "data": {
      "image/png": "[encoded data removed]",
      "text/plain": [
       "<matplotlib.figure.Figure at 0x127c5f748>"
      ]
     },
     "metadata": {},
     "output_type": "display_data"
    }
   ],
   "source": [
    "# 绘制训练和验证的损失曲线\n",
    "plt.plot(hsitory_IRv2.history['loss'])\n",
    "plt.plot(hsitory_IRv2.history['val_loss'])\n",
    "\n",
    "plt.legend(['training', 'validation'], loc='upper right', fontsize=16)\n",
    "\n",
    "plt.title('loss of InceptionResNetV2', fontsize=20)\n",
    "plt.xlabel('epochs', fontsize=18)\n",
    "plt.ylabel('loss', fontsize=18)\n",
    "\n",
    "plt.xticks(range(0, 11, 2), fontsize=16)\n",
    "plt.yticks(fontsize=16)\n",
    "\n",
    "plt.show()"
   ]
  },
  {
   "cell_type": "code",
   "execution_count": 28,
   "metadata": {},
   "outputs": [
    {
     "name": "stdout",
     "output_type": "stream",
     "text": [
      "12500/12500 [==============================] - 0s 22us/step\n",
      "Found 12500 images belonging to 1 classes.\n"
     ]
    }
   ],
   "source": [
    "# InceptionResNetV2\n",
    "y_pred = model.predict(x_test, verbose=1)\n",
    "y_pred = y_pred.clip(min=0.005, max=0.995)\n",
    "\n",
    "df = pd.read_csv('result_csv/sample_submission.csv')\n",
    "\n",
    "image_generator = ImageDataGenerator()\n",
    "\n",
    "test_generator = image_generator.flow_from_directory('dataset/test2', target_size=(224, 224), \n",
    "                                                     class_mode=None, shuffle=False, batch_size=16)\n",
    "\n",
    "for i, filename in enumerate(test_generator.filenames):\n",
    "    idx = filename[filename.find('/')+1 : filename.find('.')]\n",
    "    df.set_value(int(idx)-1, 'label', y_pred[i])\n",
    "\n",
    "df.to_csv('result_csv/pred_IRv2_1.csv', index=False)\n",
    "# score 0.03852"
   ]
  },
  {
   "cell_type": "code",
   "execution_count": null,
   "metadata": {},
   "outputs": [],
   "source": []
  },
  {
   "cell_type": "code",
   "execution_count": 15,
   "metadata": {},
   "outputs": [
    {
     "name": "stdout",
     "output_type": "stream",
     "text": [
      "(25000, 3584) (12500, 3584) (25000,)\n"
     ]
    }
   ],
   "source": [
    "# 模型联结\n",
    "x_train, x_test = list(), list()\n",
    "for h5_model in ['Xception_gap.h5', 'InceptionResNetV2_gap.h5']:\n",
    "    h5_model = 'extract_features/' + h5_model\n",
    "    with h5py.File(h5_model, 'r') as h:\n",
    "        x_train.append(np.array(h['train']))\n",
    "        x_test.append(np.array(h['test']))\n",
    "        y_train = np.array(h['labels'])\n",
    "    \n",
    "x_train = np.hstack(x_train)\n",
    "x_test = np.hstack(x_test)\n",
    "x_train, y_train = shuffle(x_train, y_train)\n",
    "print(x_train.shape, x_test.shape, y_train.shape)"
   ]
  },
  {
   "cell_type": "code",
   "execution_count": 16,
   "metadata": {},
   "outputs": [
    {
     "name": "stdout",
     "output_type": "stream",
     "text": [
      "_________________________________________________________________\n",
      "Layer (type)                 Output Shape              Param #   \n",
      "=================================================================\n",
      "input_2 (InputLayer)         (None, 3584)              0         \n",
      "_________________________________________________________________\n",
      "dropout_2 (Dropout)          (None, 3584)              0         \n",
      "_________________________________________________________________\n",
      "dense_2 (Dense)              (None, 1)                 3585      \n",
      "=================================================================\n",
      "Total params: 3,585\n",
      "Trainable params: 3,585\n",
      "Non-trainable params: 0\n",
      "_________________________________________________________________\n",
      "None\n"
     ]
    }
   ],
   "source": [
    "input_tensor = Input(x_train.shape[1:])\n",
    "x = Dropout(0.2)(input_tensor)\n",
    "x = Dense(1, activation='sigmoid')(x)\n",
    "\n",
    "model = Model(input_tensor, x)\n",
    "model.compile(optimizer='adam', loss='binary_crossentropy', metrics=['accuracy'])\n",
    "\n",
    "print(model.summary())"
   ]
  },
  {
   "cell_type": "code",
   "execution_count": 17,
   "metadata": {},
   "outputs": [
    {
     "name": "stdout",
     "output_type": "stream",
     "text": [
      "12500/12500 [==============================] - 0s 26us/step\n",
      "Found 12500 images belonging to 1 classes.\n"
     ]
    }
   ],
   "source": [
    "# 'Xception_gap.h5', 'InceptionResNetV2_gap.h5'\n",
    "y_pred = model.predict(x_test, verbose=1)\n",
    "y_pred = y_pred.clip(min=0.005, max=0.995)\n",
    "\n",
    "df = pd.read_csv('result_csv/sample_submission.csv')\n",
    "\n",
    "image_generator = ImageDataGenerator()\n",
    "\n",
    "test_generator = image_generator.flow_from_directory('dataset/test2', target_size=(224, 224), \n",
    "                                                     class_mode=None, shuffle=False, batch_size=16)\n",
    "\n",
    "for i, filename in enumerate(test_generator.filenames):\n",
    "    idx = filename[filename.find('/')+1 : filename.find('.')]\n",
    "    df.set_value(int(idx)-1, 'label', y_pred[i])\n",
    "\n",
    "df.to_csv('result_csv/pred_X_IR.csv', index=False)\n",
    "# score 0.03872"
   ]
  },
  {
   "cell_type": "code",
   "execution_count": null,
   "metadata": {},
   "outputs": [],
   "source": []
  },
  {
   "cell_type": "code",
   "execution_count": null,
   "metadata": {},
   "outputs": [],
   "source": []
  },
  {
   "cell_type": "markdown",
   "metadata": {
    "collapsed": true
   },
   "source": [
    "## Extract features with data augmentation"
   ]
  },
  {
   "cell_type": "code",
   "execution_count": null,
   "metadata": {
    "collapsed": true
   },
   "outputs": [],
   "source": [
    "# get_model with data augmentation\n",
    "\n",
    "def get_model_with_da(model, image_size, preprocess_func, model_name):\n",
    "    # with data augmentation\n",
    "    # model like vgg16.VGG16\n",
    "    # image_size: a tuple with image height and width\n",
    "    # preprocess_func like vgg16.preprocess_input\n",
    "    # model_name: string of model name\n",
    "    x = Input(shape=(image_size[0], image_size[1], 3))\n",
    "    x = Lambda(preprocess_func)(x)\n",
    "    base_model = model(include_top=False, input_tensor=x, weights='imagenet', pooling='avg')\n",
    "    \n",
    "    # augmentation configuration for training\n",
    "    train_datagen = ImageDataGenerator(shear_range=0.2, zoom_range=0.2, horizontal_flip=True)\n",
    "    train_generator = train_datagen.flow_from_directory('dataset/train_diff', target_size=image_size, class_mode='binary', shuffle=False, batch_size=16)\n",
    "    \n",
    "    # augmentation configuration for testing \n",
    "    test_datagen = ImageDataGenerator()\n",
    "    test_generator = test_datagen.flow_from_directory('dataset/test2', target_size=image_size,  shuffle=False, batch_size=16)\n",
    "\n",
    "    train = base_model.predict_generator(train_generator)\n",
    "    test = base_model.predict_generator(test_generator)\n",
    "\n",
    "    with h5py.File('%s_da_gap.h5' % model_name) as h:\n",
    "        h.create_dataset('train', data=train)\n",
    "        h.create_dataset('test', data=test)\n",
    "        h.create_dataset('labels', data=train_generator.classes)"
   ]
  },
  {
   "cell_type": "code",
   "execution_count": null,
   "metadata": {
    "collapsed": true
   },
   "outputs": [],
   "source": [
    "# 导出 VGG16 + data augmentation 的model\n",
    "start_time = time()\n",
    "get_model_with_da(vgg16.VGG16, (224,224), vgg16.preprocess_input, 'VGG16')\n",
    "print('VGG16 Time: {}s'.format(round(time() - start_time, 1)))"
   ]
  },
  {
   "cell_type": "code",
   "execution_count": null,
   "metadata": {
    "collapsed": true
   },
   "outputs": [],
   "source": [
    "# 导出 Xception + data augmentation 的model\n",
    "start_time = time()\n",
    "get_model_with_da(xception.Xception, (299,299), xception.preprocess_input, 'Xception')\n",
    "print('Xception Time: {}s'.format(round(time() - start_time, 1)))"
   ]
  },
  {
   "cell_type": "code",
   "execution_count": null,
   "metadata": {
    "collapsed": true
   },
   "outputs": [],
   "source": [
    "# 导出 InceptionResNetV2 + data augmentation 的model\n",
    "start_time = time()\n",
    "get_model_with_da(inception_resnet_v2.InceptionResNetV2, (299,299), inception_resnet_v2.preprocess_input, 'InceptionResNetV2')\n",
    "print('InceptionResNetV2 Time: {}s'.format(round(time() - start_time, 1)))"
   ]
  },
  {
   "cell_type": "code",
   "execution_count": null,
   "metadata": {
    "collapsed": true
   },
   "outputs": [],
   "source": []
  },
  {
   "cell_type": "code",
   "execution_count": 2,
   "metadata": {
    "collapsed": true
   },
   "outputs": [],
   "source": [
    "def train_model(features_file):\n",
    "    # features_file like 'VGG16_gap.h5'\n",
    "    # 读取模型的特征向量\n",
    "    with h5py.File(features_file, 'r') as h:\n",
    "        x_train = np.array(h['train'])\n",
    "        x_test = np.array(h['test'])\n",
    "        y_train = np.array(h['labels'])\n",
    "        \n",
    "    x_train, y_train = shuffle(x_train, y_train)\n",
    "    \n",
    "    # 创建模型\n",
    "    input_tensor = Input(x_train.shape[1:])\n",
    "    x = Dropout(0.2)(input_tensor)\n",
    "    x = Dense(1, activation='sigmoid')(x)\n",
    "\n",
    "    model = Model(input_tensor, x)\n",
    "    return model, x_train, y_train, x_test\n",
    "    "
   ]
  },
  {
   "cell_type": "code",
   "execution_count": 3,
   "metadata": {},
   "outputs": [
    {
     "name": "stdout",
     "output_type": "stream",
     "text": [
      "(25000, 512) (12500, 512) (25000,)\n",
      "_________________________________________________________________\n",
      "Layer (type)                 Output Shape              Param #   \n",
      "=================================================================\n",
      "input_1 (InputLayer)         (None, 512)               0         \n",
      "_________________________________________________________________\n",
      "dropout_1 (Dropout)          (None, 512)               0         \n",
      "_________________________________________________________________\n",
      "dense_1 (Dense)              (None, 1)                 513       \n",
      "=================================================================\n",
      "Total params: 513\n",
      "Trainable params: 513\n",
      "Non-trainable params: 0\n",
      "_________________________________________________________________\n",
      "None\n"
     ]
    }
   ],
   "source": [
    "model, x_train, y_train, x_test = train_model('VGG16_da_gap.h5')\n",
    "print(x_train.shape, x_test.shape, y_train.shape)\n",
    "\n",
    "model.compile(optimizer='adam', loss='binary_crossentropy', metrics=['accuracy'])\n",
    "print(model.summary())"
   ]
  },
  {
   "cell_type": "code",
   "execution_count": 4,
   "metadata": {},
   "outputs": [
    {
     "name": "stdout",
     "output_type": "stream",
     "text": [
      "input_1\n",
      "dropout_1\n",
      "dense_1\n"
     ]
    }
   ],
   "source": [
    "for layer in model.layers:\n",
    "    print(layer.name)"
   ]
  },
  {
   "cell_type": "code",
   "execution_count": 5,
   "metadata": {},
   "outputs": [
    {
     "name": "stdout",
     "output_type": "stream",
     "text": [
      "Train on 20000 samples, validate on 5000 samples\n",
      "Epoch 1/20\n",
      "20000/20000 [==============================] - 2s 84us/step - loss: 0.3178 - acc: 0.9161 - val_loss: 0.0683 - val_acc: 0.9750\n",
      "Epoch 2/20\n",
      "20000/20000 [==============================] - 1s 69us/step - loss: 0.1087 - acc: 0.9674 - val_loss: 0.0587 - val_acc: 0.9780\n",
      "Epoch 3/20\n",
      "20000/20000 [==============================] - 1s 68us/step - loss: 0.0880 - acc: 0.9710 - val_loss: 0.0494 - val_acc: 0.9800\n",
      "Epoch 4/20\n",
      "20000/20000 [==============================] - 1s 70us/step - loss: 0.0762 - acc: 0.9738 - val_loss: 0.0485 - val_acc: 0.9804\n",
      "Epoch 5/20\n",
      "20000/20000 [==============================] - 1s 68us/step - loss: 0.0748 - acc: 0.9739 - val_loss: 0.0499 - val_acc: 0.9798\n",
      "Epoch 6/20\n",
      "20000/20000 [==============================] - 1s 69us/step - loss: 0.0725 - acc: 0.9752 - val_loss: 0.0744 - val_acc: 0.9742\n",
      "Epoch 7/20\n",
      "20000/20000 [==============================] - 1s 71us/step - loss: 0.0711 - acc: 0.9755 - val_loss: 0.0476 - val_acc: 0.9802\n",
      "Epoch 8/20\n",
      "20000/20000 [==============================] - 2s 75us/step - loss: 0.0726 - acc: 0.9756 - val_loss: 0.0505 - val_acc: 0.9814\n",
      "Epoch 9/20\n",
      "20000/20000 [==============================] - 1s 73us/step - loss: 0.0747 - acc: 0.9738 - val_loss: 0.0543 - val_acc: 0.9788\n",
      "Epoch 10/20\n",
      "20000/20000 [==============================] - 1s 72us/step - loss: 0.0765 - acc: 0.9736 - val_loss: 0.0505 - val_acc: 0.9804\n",
      "Epoch 11/20\n",
      "20000/20000 [==============================] - 2s 95us/step - loss: 0.0737 - acc: 0.9741 - val_loss: 0.0490 - val_acc: 0.9812\n",
      "Epoch 12/20\n",
      "20000/20000 [==============================] - 2s 85us/step - loss: 0.0748 - acc: 0.9742 - val_loss: 0.0570 - val_acc: 0.9792\n",
      "Epoch 13/20\n",
      "20000/20000 [==============================] - 2s 83us/step - loss: 0.0726 - acc: 0.9751 - val_loss: 0.0572 - val_acc: 0.9802\n",
      "Epoch 14/20\n",
      "20000/20000 [==============================] - 1s 74us/step - loss: 0.0695 - acc: 0.9765 - val_loss: 0.0502 - val_acc: 0.9798\n",
      "Epoch 15/20\n",
      "20000/20000 [==============================] - 1s 73us/step - loss: 0.0689 - acc: 0.9757 - val_loss: 0.0527 - val_acc: 0.9814\n",
      "Epoch 16/20\n",
      "20000/20000 [==============================] - 2s 78us/step - loss: 0.0703 - acc: 0.9763 - val_loss: 0.0528 - val_acc: 0.9788\n",
      "Epoch 17/20\n",
      "20000/20000 [==============================] - 2s 83us/step - loss: 0.0694 - acc: 0.9756 - val_loss: 0.0555 - val_acc: 0.9798\n",
      "Epoch 18/20\n",
      "20000/20000 [==============================] - 1s 74us/step - loss: 0.0716 - acc: 0.9761 - val_loss: 0.0573 - val_acc: 0.9772\n",
      "Epoch 19/20\n",
      "20000/20000 [==============================] - 1s 73us/step - loss: 0.0747 - acc: 0.9743 - val_loss: 0.0499 - val_acc: 0.9802\n",
      "Epoch 20/20\n",
      "20000/20000 [==============================] - 2s 84us/step - loss: 0.0737 - acc: 0.9742 - val_loss: 0.0484 - val_acc: 0.9806\n"
     ]
    }
   ],
   "source": [
    "history_vgg16 = model.fit(x_train, y_train, epochs=20, batch_size=32, validation_split=0.2, verbose=1)"
   ]
  },
  {
   "cell_type": "code",
   "execution_count": 5,
   "metadata": {},
   "outputs": [
    {
     "data": {
      "image/png": "[encoded data removed]",
      "text/plain": [
       "<matplotlib.figure.Figure at 0x11ad30c88>"
      ]
     },
     "metadata": {},
     "output_type": "display_data"
    }
   ],
   "source": [
    "# 绘制训练和验证曲线\n",
    "plt.plot(history_vgg16.history['acc'])\n",
    "plt.plot(history_vgg16.history['val_acc'])\n",
    "\n",
    "plt.legend(['training', 'validation'], loc='lower right', fontsize=16)\n",
    "\n",
    "plt.title('accuracy of VGG16', fontsize=20)\n",
    "plt.xlabel('epochs', fontsize=18)\n",
    "plt.ylabel('accurcay', fontsize=18)\n",
    "\n",
    "plt.xticks(range(0, 21, 4), fontsize=16)\n",
    "plt.yticks(fontsize=16)\n",
    "\n",
    "plt.show()"
   ]
  },
  {
   "cell_type": "code",
   "execution_count": 7,
   "metadata": {},
   "outputs": [
    {
     "data": {
      "image/png": "[encoded data removed]",
      "text/plain": [
       "<matplotlib.figure.Figure at 0x11ad83dd8>"
      ]
     },
     "metadata": {},
     "output_type": "display_data"
    }
   ],
   "source": [
    "# 绘制训练和验证的损失曲线\n",
    "plt.plot(history_vgg16.history['loss'])\n",
    "plt.plot(history_vgg16.history['val_loss'])\n",
    "\n",
    "plt.legend(['training', 'validation'], loc='upper right', fontsize=16)\n",
    "\n",
    "plt.title('loss of VGG16', fontsize=20)\n",
    "plt.xlabel('epochs', fontsize=18)\n",
    "plt.ylabel('loss', fontsize=18)\n",
    "\n",
    "plt.xticks(range(0, 21, 4), fontsize=16)\n",
    "plt.yticks(fontsize=16)\n",
    "\n",
    "plt.show()"
   ]
  },
  {
   "cell_type": "code",
   "execution_count": 6,
   "metadata": {},
   "outputs": [
    {
     "name": "stdout",
     "output_type": "stream",
     "text": [
      "12500/12500 [==============================] - 0s 19us/step\n",
      "Found 12500 images belonging to 1 classes.\n"
     ]
    }
   ],
   "source": [
    "# vgg16 \n",
    "y_pred = model.predict(x_test, verbose=1)\n",
    "y_pred = y_pred.clip(min=0.005, max=0.995)\n",
    "\n",
    "df = pd.read_csv('sample_submission.csv')\n",
    "\n",
    "image_generator = ImageDataGenerator()\n",
    "\n",
    "test_generator = image_generator.flow_from_directory('dataset/test2', target_size=(224, 224), \n",
    "                                                     class_mode=None, shuffle=False, batch_size=16)\n",
    "\n",
    "for i, filename in enumerate(test_generator.filenames):\n",
    "    idx = filename[filename.find('/')+1 : filename.find('.')]\n",
    "    df.set_value(int(idx)-1, 'label', y_pred[i])\n",
    "\n",
    "df.to_csv('pred_vgg16_1.csv', index=False)\n",
    "# score 0.06429"
   ]
  },
  {
   "cell_type": "code",
   "execution_count": null,
   "metadata": {},
   "outputs": [],
   "source": []
  },
  {
   "cell_type": "markdown",
   "metadata": {
    "collapsed": true
   },
   "source": [
    "## without outliers and withe data augmentation"
   ]
  },
  {
   "cell_type": "code",
   "execution_count": 30,
   "metadata": {},
   "outputs": [
    {
     "name": "stdout",
     "output_type": "stream",
     "text": [
      "(24955, 2048) (12500, 2048) (24955,)\n",
      "_________________________________________________________________\n",
      "Layer (type)                 Output Shape              Param #   \n",
      "=================================================================\n",
      "input_7 (InputLayer)         (None, 2048)              0         \n",
      "_________________________________________________________________\n",
      "dropout_7 (Dropout)          (None, 2048)              0         \n",
      "_________________________________________________________________\n",
      "dense_7 (Dense)              (None, 1)                 2049      \n",
      "=================================================================\n",
      "Total params: 2,049\n",
      "Trainable params: 2,049\n",
      "Non-trainable params: 0\n",
      "_________________________________________________________________\n",
      "None\n",
      "Train on 19964 samples, validate on 4991 samples\n",
      "Epoch 1/10\n",
      "19964/19964 [==============================] - 2s 77us/step - loss: 0.0650 - acc: 0.9876 - val_loss: 0.0290 - val_acc: 0.9924\n",
      "Epoch 2/10\n",
      "19964/19964 [==============================] - 1s 55us/step - loss: 0.0226 - acc: 0.9941 - val_loss: 0.0236 - val_acc: 0.9930\n",
      "Epoch 3/10\n",
      "19964/19964 [==============================] - 1s 54us/step - loss: 0.0187 - acc: 0.9946 - val_loss: 0.0216 - val_acc: 0.9934\n",
      "Epoch 4/10\n",
      "19964/19964 [==============================] - 1s 54us/step - loss: 0.0163 - acc: 0.9952 - val_loss: 0.0209 - val_acc: 0.9934\n",
      "Epoch 5/10\n",
      "19964/19964 [==============================] - 1s 59us/step - loss: 0.0150 - acc: 0.9957 - val_loss: 0.0210 - val_acc: 0.9932\n",
      "Epoch 6/10\n",
      "19964/19964 [==============================] - 1s 64us/step - loss: 0.0139 - acc: 0.9956 - val_loss: 0.0215 - val_acc: 0.9924\n",
      "Epoch 7/10\n",
      "19964/19964 [==============================] - 1s 56us/step - loss: 0.0130 - acc: 0.9961 - val_loss: 0.0212 - val_acc: 0.9930\n",
      "Epoch 8/10\n",
      "19964/19964 [==============================] - 1s 55us/step - loss: 0.0127 - acc: 0.9961 - val_loss: 0.0217 - val_acc: 0.9928\n",
      "Epoch 9/10\n",
      "19964/19964 [==============================] - 1s 62us/step - loss: 0.0112 - acc: 0.9967 - val_loss: 0.0201 - val_acc: 0.9934\n",
      "Epoch 10/10\n",
      "19964/19964 [==============================] - 1s 58us/step - loss: 0.0115 - acc: 0.9967 - val_loss: 0.0199 - val_acc: 0.9936\n"
     ]
    }
   ],
   "source": [
    "with h5py.File('extract_features/Xception_da_gap_45.h5', 'r') as h:\n",
    "    x_train = np.array(h['train'])\n",
    "    x_test = np.array(h['test'])\n",
    "    y_train = np.array(h['labels'])\n",
    "\n",
    "x_train, y_train = shuffle(x_train, y_train)\n",
    "print(x_train.shape, x_test.shape, y_train.shape)\n",
    "\n",
    "input_tensor = Input(x_train.shape[1:])\n",
    "x = Dropout(0.2)(input_tensor)\n",
    "x = Dense(1, activation='sigmoid')(x)\n",
    "\n",
    "model = Model(input_tensor, x)\n",
    "model.compile(optimizer='adam', loss='binary_crossentropy', metrics=['accuracy'])\n",
    "\n",
    "print(model.summary())\n",
    "\n",
    "hsitory_xception_45 = model.fit(x_train, y_train, epochs=10, batch_size=32, validation_split=0.2, verbose=1)"
   ]
  },
  {
   "cell_type": "code",
   "execution_count": 31,
   "metadata": {},
   "outputs": [
    {
     "name": "stdout",
     "output_type": "stream",
     "text": [
      "12500/12500 [==============================] - 0s 24us/step\n",
      "Found 12500 images belonging to 1 classes.\n"
     ]
    }
   ],
   "source": [
    "# Xception\n",
    "y_pred = model.predict(x_test, verbose=1)\n",
    "y_pred = y_pred.clip(min=0.005, max=0.995)\n",
    "\n",
    "df = pd.read_csv('result_csv/sample_submission.csv')\n",
    "\n",
    "image_generator = ImageDataGenerator()\n",
    "\n",
    "test_generator = image_generator.flow_from_directory('dataset/test2', target_size=(224, 224), \n",
    "                                                     class_mode=None, shuffle=False, batch_size=16)\n",
    "\n",
    "for i, filename in enumerate(test_generator.filenames):\n",
    "    idx = filename[filename.find('/')+1 : filename.find('.')]\n",
    "    df.set_value(int(idx)-1, 'label', y_pred[i])\n",
    "\n",
    "df.to_csv('result_csv/pred_xception_45.csv', index=False)\n",
    "# score 0.04231"
   ]
  },
  {
   "cell_type": "code",
   "execution_count": null,
   "metadata": {},
   "outputs": [],
   "source": []
  },
  {
   "cell_type": "code",
   "execution_count": 2,
   "metadata": {},
   "outputs": [
    {
     "name": "stdout",
     "output_type": "stream",
     "text": [
      "(24955, 1536) (12500, 1536) (24955,)\n",
      "_________________________________________________________________\n",
      "Layer (type)                 Output Shape              Param #   \n",
      "=================================================================\n",
      "input_1 (InputLayer)         (None, 1536)              0         \n",
      "_________________________________________________________________\n",
      "dropout_1 (Dropout)          (None, 1536)              0         \n",
      "_________________________________________________________________\n",
      "dense_1 (Dense)              (None, 1)                 1537      \n",
      "=================================================================\n",
      "Total params: 1,537\n",
      "Trainable params: 1,537\n",
      "Non-trainable params: 0\n",
      "_________________________________________________________________\n",
      "None\n",
      "Train on 19964 samples, validate on 4991 samples\n",
      "Epoch 1/10\n",
      "19964/19964 [==============================] - 1s 72us/step - loss: 0.0596 - acc: 0.9863 - val_loss: 0.0283 - val_acc: 0.9936\n",
      "Epoch 2/10\n",
      "19964/19964 [==============================] - 1s 56us/step - loss: 0.0230 - acc: 0.9941 - val_loss: 0.0234 - val_acc: 0.9936\n",
      "Epoch 3/10\n",
      "19964/19964 [==============================] - 1s 52us/step - loss: 0.0200 - acc: 0.9949 - val_loss: 0.0221 - val_acc: 0.9944\n",
      "Epoch 4/10\n",
      "19964/19964 [==============================] - 1s 53us/step - loss: 0.0194 - acc: 0.9951 - val_loss: 0.0235 - val_acc: 0.9942\n",
      "Epoch 5/10\n",
      "19964/19964 [==============================] - 1s 58us/step - loss: 0.0170 - acc: 0.9956 - val_loss: 0.0224 - val_acc: 0.9938\n",
      "Epoch 6/10\n",
      "19964/19964 [==============================] - 1s 62us/step - loss: 0.0162 - acc: 0.9953 - val_loss: 0.0246 - val_acc: 0.9932\n",
      "Epoch 7/10\n",
      "19964/19964 [==============================] - 1s 50us/step - loss: 0.0160 - acc: 0.9958 - val_loss: 0.0212 - val_acc: 0.9942\n",
      "Epoch 8/10\n",
      "19964/19964 [==============================] - 1s 55us/step - loss: 0.0148 - acc: 0.9962 - val_loss: 0.0261 - val_acc: 0.9932\n",
      "Epoch 9/10\n",
      "19964/19964 [==============================] - 1s 55us/step - loss: 0.0148 - acc: 0.9965 - val_loss: 0.0211 - val_acc: 0.9946\n",
      "Epoch 10/10\n",
      "19964/19964 [==============================] - 1s 56us/step - loss: 0.0146 - acc: 0.9963 - val_loss: 0.0225 - val_acc: 0.9946\n"
     ]
    }
   ],
   "source": [
    "with h5py.File('extract_features/InceptionResNetV2_da_gap_45.h5', 'r') as h:\n",
    "    x_train = np.array(h['train'])\n",
    "    x_test = np.array(h['test'])\n",
    "    y_train = np.array(h['labels'])\n",
    "\n",
    "x_train, y_train = shuffle(x_train, y_train)\n",
    "print(x_train.shape, x_test.shape, y_train.shape)\n",
    "\n",
    "input_tensor = Input(x_train.shape[1:])\n",
    "x = Dropout(0.2)(input_tensor)\n",
    "x = Dense(1, activation='sigmoid')(x)\n",
    "\n",
    "model = Model(input_tensor, x)\n",
    "model.compile(optimizer='adam', loss='binary_crossentropy', metrics=['accuracy'])\n",
    "\n",
    "print(model.summary())\n",
    "\n",
    "hsitory_xception_45 = model.fit(x_train, y_train, epochs=10, batch_size=32, validation_split=0.2, verbose=1)"
   ]
  },
  {
   "cell_type": "code",
   "execution_count": 3,
   "metadata": {},
   "outputs": [
    {
     "name": "stdout",
     "output_type": "stream",
     "text": [
      "12500/12500 [==============================] - 0s 18us/step\n",
      "Found 12500 images belonging to 1 classes.\n"
     ]
    }
   ],
   "source": [
    "# InceptionResNetV2\n",
    "y_pred = model.predict(x_test, verbose=1)\n",
    "y_pred = y_pred.clip(min=0.005, max=0.995)\n",
    "\n",
    "df = pd.read_csv('result_csv/sample_submission.csv')\n",
    "\n",
    "image_generator = ImageDataGenerator()\n",
    "\n",
    "test_generator = image_generator.flow_from_directory('dataset/test2', target_size=(224, 224), \n",
    "                                                     class_mode=None, shuffle=False, batch_size=16)\n",
    "\n",
    "for i, filename in enumerate(test_generator.filenames):\n",
    "    idx = filename[filename.find('/')+1 : filename.find('.')]\n",
    "    df.set_value(int(idx)-1, 'label', y_pred[i])\n",
    "\n",
    "df.to_csv('result_csv/pred_IRv2_45.csv', index=False)\n",
    "# score 0.03794"
   ]
  },
  {
   "cell_type": "markdown",
   "metadata": {},
   "source": [
    "## without validation"
   ]
  },
  {
   "cell_type": "code",
   "execution_count": 10,
   "metadata": {},
   "outputs": [
    {
     "name": "stdout",
     "output_type": "stream",
     "text": [
      "(24955, 1536) (12500, 1536) (24955,)\n",
      "_________________________________________________________________\n",
      "Layer (type)                 Output Shape              Param #   \n",
      "=================================================================\n",
      "input_4 (InputLayer)         (None, 1536)              0         \n",
      "_________________________________________________________________\n",
      "dropout_4 (Dropout)          (None, 1536)              0         \n",
      "_________________________________________________________________\n",
      "dense_4 (Dense)              (None, 1)                 1537      \n",
      "=================================================================\n",
      "Total params: 1,537\n",
      "Trainable params: 1,537\n",
      "Non-trainable params: 0\n",
      "_________________________________________________________________\n",
      "None\n",
      "Epoch 1/20\n",
      "24955/24955 [==============================] - 2s 63us/step - loss: 0.0477 - acc: 0.9907\n",
      "Epoch 2/20\n",
      "24955/24955 [==============================] - 1s 48us/step - loss: 0.0223 - acc: 0.9941\n",
      "Epoch 3/20\n",
      "24955/24955 [==============================] - 1s 48us/step - loss: 0.0206 - acc: 0.9948\n",
      "Epoch 4/20\n",
      "24955/24955 [==============================] - 1s 48us/step - loss: 0.0175 - acc: 0.9950\n",
      "Epoch 5/20\n",
      "24955/24955 [==============================] - 1s 47us/step - loss: 0.0165 - acc: 0.9955: 0s - loss: 0.0162 - acc:\n",
      "Epoch 6/20\n",
      "24955/24955 [==============================] - 1s 50us/step - loss: 0.0160 - acc: 0.9954\n",
      "Epoch 7/20\n",
      "24955/24955 [==============================] - 1s 60us/step - loss: 0.0169 - acc: 0.9952\n",
      "Epoch 8/20\n",
      "24955/24955 [==============================] - 2s 62us/step - loss: 0.0154 - acc: 0.9960\n",
      "Epoch 9/20\n",
      "24955/24955 [==============================] - 1s 53us/step - loss: 0.0153 - acc: 0.9957\n",
      "Epoch 10/20\n",
      "24955/24955 [==============================] - 1s 49us/step - loss: 0.0155 - acc: 0.9959\n",
      "Epoch 11/20\n",
      "24955/24955 [==============================] - 1s 49us/step - loss: 0.0149 - acc: 0.9956\n",
      "Epoch 12/20\n",
      "24955/24955 [==============================] - 1s 53us/step - loss: 0.0150 - acc: 0.9959\n",
      "Epoch 13/20\n",
      "24955/24955 [==============================] - 1s 54us/step - loss: 0.0151 - acc: 0.9958\n",
      "Epoch 14/20\n",
      "24955/24955 [==============================] - 1s 48us/step - loss: 0.0143 - acc: 0.9961\n",
      "Epoch 15/20\n",
      "24955/24955 [==============================] - 1s 53us/step - loss: 0.0127 - acc: 0.9966\n",
      "Epoch 16/20\n",
      "24955/24955 [==============================] - 1s 58us/step - loss: 0.0129 - acc: 0.9965\n",
      "Epoch 17/20\n",
      "24955/24955 [==============================] - 1s 50us/step - loss: 0.0129 - acc: 0.9963A: 0s - loss: \n",
      "Epoch 18/20\n",
      "24955/24955 [==============================] - 1s 49us/step - loss: 0.0125 - acc: 0.9967\n",
      "Epoch 19/20\n",
      "24955/24955 [==============================] - 1s 60us/step - loss: 0.0129 - acc: 0.9963\n",
      "Epoch 20/20\n",
      "24955/24955 [==============================] - 1s 50us/step - loss: 0.0127 - acc: 0.9967\n"
     ]
    }
   ],
   "source": [
    "with h5py.File('extract_features/InceptionResNetV2_da_gap_45.h5', 'r') as h:\n",
    "    x_train = np.array(h['train'])\n",
    "    x_test = np.array(h['test'])\n",
    "    y_train = np.array(h['labels'])\n",
    "\n",
    "x_train, y_train = shuffle(x_train, y_train)\n",
    "print(x_train.shape, x_test.shape, y_train.shape)\n",
    "\n",
    "input_tensor = Input(x_train.shape[1:])\n",
    "x = Dropout(0.2)(input_tensor)\n",
    "x = Dense(1, activation='sigmoid')(x)\n",
    "\n",
    "model = Model(input_tensor, x)\n",
    "model.compile(optimizer='adam', loss='binary_crossentropy', metrics=['accuracy'])\n",
    "\n",
    "print(model.summary())\n",
    "\n",
    "hsitory_xception_45 = model.fit(x_train, y_train, epochs=20, batch_size=32, verbose=1)"
   ]
  },
  {
   "cell_type": "code",
   "execution_count": 11,
   "metadata": {},
   "outputs": [
    {
     "name": "stdout",
     "output_type": "stream",
     "text": [
      "12500/12500 [==============================] - 0s 22us/step\n",
      "Found 12500 images belonging to 1 classes.\n"
     ]
    }
   ],
   "source": [
    "# InceptionResNetV2\n",
    "y_pred = model.predict(x_test, verbose=1)\n",
    "y_pred = y_pred.clip(min=0.005, max=0.995)\n",
    "\n",
    "df = pd.read_csv('result_csv/sample_submission.csv')\n",
    "\n",
    "image_generator = ImageDataGenerator()\n",
    "\n",
    "test_generator = image_generator.flow_from_directory('dataset/test2', target_size=(224, 224), \n",
    "                                                     class_mode=None, shuffle=False, batch_size=16)\n",
    "\n",
    "for i, filename in enumerate(test_generator.filenames):\n",
    "    idx = filename[filename.find('/')+1 : filename.find('.')]\n",
    "    df.set_value(int(idx)-1, 'label', y_pred[i])\n",
    "\n",
    "df.to_csv('result_csv/pred_IRv2_45_noval.csv', index=False)\n",
    "# score 0.03822"
   ]
  },
  {
   "cell_type": "code",
   "execution_count": null,
   "metadata": {},
   "outputs": [],
   "source": []
  },
  {
   "cell_type": "code",
   "execution_count": null,
   "metadata": {
    "collapsed": true
   },
   "outputs": [],
   "source": [
    "# hsitory_X_IR = model.fit(x_train, y_train, epochs=20, batch_size=32, validation_split=0.2, verbose=1)"
   ]
  },
  {
   "cell_type": "code",
   "execution_count": null,
   "metadata": {
    "collapsed": true
   },
   "outputs": [],
   "source": []
  },
  {
   "cell_type": "code",
   "execution_count": null,
   "metadata": {
    "collapsed": true
   },
   "outputs": [],
   "source": [
    "# ====== without data augmentation\n",
    "# VGG16 0.08553\n",
    "# Xception 0.04448\n",
    "# InceptionResNetV2 0.03852\n",
    "# Xception + InceptionResNetV2 0.03872\n",
    "\n",
    "# ====== with data augmentation\n",
    "# VGG16 0.06429\n",
    "\n",
    "# ====== without outliers and with data augmentation\n",
    "# Xception 0.04231\n",
    "# InceptionResNetV2 0.03794"
   ]
  }
 ],
 "metadata": {
  "kernelspec": {
   "display_name": "Python 3",
   "language": "python",
   "name": "python3"
  },
  "language_info": {
   "codemirror_mode": {
    "name": "ipython",
    "version": 3
   },
   "file_extension": ".py",
   "mimetype": "text/x-python",
   "name": "python",
   "nbconvert_exporter": "python",
   "pygments_lexer": "ipython3",
   "version": "3.6.1"
  }
 },
 "nbformat": 4,
 "nbformat_minor": 2
}
